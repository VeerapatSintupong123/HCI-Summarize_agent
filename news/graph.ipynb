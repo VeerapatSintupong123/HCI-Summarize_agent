{
 "cells": [
  {
   "cell_type": "code",
   "execution_count": 1,
   "id": "c9a6f9ad",
   "metadata": {},
   "outputs": [
    {
     "name": "stdout",
     "output_type": "stream",
     "text": [
      "Python 3.13.7\n"
     ]
    }
   ],
   "source": [
    "!python --version"
   ]
  },
  {
   "cell_type": "code",
   "execution_count": 2,
   "id": "32939e82",
   "metadata": {},
   "outputs": [],
   "source": [
    "new = {\n",
    "    \"headline\": \"UK and US to announce tech, energy deals during Trump visit\",\n",
    "    \"content\": \"\"\"\n",
    "September 14, 202511:10 PM GMT-8Updated 1 min ago \\n\n",
    "summary\\n\n",
    "- Trump to make second state visit to Britain September 16-18\n",
    "- Britain hopes royal welcome will appeal to Trump\n",
    "- Tariff rates for steel and aluminium still to be finalised\n",
    "- Tech partnership and nuclear energy deal to be announced\n",
    "- Despite differences, Starmer and Trump have good relationship\n",
    "LONDON, Sept 15 (Reuters) - The United States and Britain will announce agreements on technology and civil nuclear energy during U.S. President Donald Trump's unprecedented second state visit this week, as the UK hopes to finalise steel tariffs under a much-vaunted trade deal. \\n \n",
    "Trump and his wife, Melania, will be treated to a display of British royal pageantry during their visit on Wednesday, including a carriage tour, a state banquet, a flypast by military aircraft and a gun salute. \\n\n",
    "The British government hopes the soft power of the royals will appeal to Trump as it seeks tighter defence, security and energy ties with Washington, having already secured a favourable tariff deal. \\n\n",
    "**STARMER HOPES TO SEAL LOWER TARIFF RATES** \\n\n",
    "Prime Minister Keir Starmer will host Trump at his Chequers country residence on Thursday to discuss working more closely together, on issues like Ukraine, and with the aim of finalising promised lower tariffs for steel and aluminium. \\n\n",
    "A spokesperson for Starmer said the leaders would sign \"a world-leading tech partnership\". The two countries will also sign multi-billion dollar deals to develop small nuclear projects which could in some cases help power new AI data centres. \\n\n",
    "\"The UK-U.S. relationship is the strongest in the world,\" Starmer's spokesperson told reporters. \"This week we are delivering a step change in that relationship.\" \\n\n",
    "The British leader, a technocrat and a self-proclaimed socialist, and Trump, a proudly unpredictable politician who has pushed the Republican Party further to the right, have overcome their differences to develop a good working relationship. \\n\n",
    "Starmer was the first world leader to agree an economic deal with Trump on reducing his global tariffs. \\n\n",
    "Under that agreement, the United States said it planned to reduce tariffs on imports of cars and aluminium and steel. While details on car tariffs were agreed in June, the deal for steel and aluminium is yet to be finalised. \\n\n",
    "\"When it comes to steel, we will make sure that we have an announcement as soon as possible,\" British business minister Peter Kyle told the BBC on Sunday. \\n\n",
    "**INVESTMENTS FLOW, MANDELSON SCANDAL**\n",
    "Before Trump's arrival, Britain on Saturday announced over 1.25 billion pounds ($1.69 billion) of U.S. investment from PayPal, Bank of America and others, while Nvidia and OpenAI are expected to announce investment deals as part of the technology agreement, according to sources, who asked not to be named. \\n\n",
    "CoreWeave, a U.S. cloud computing provider, also said it would announce investments in Britain this week. \\n\n",
    "A delegation of British officials will be in the United States on Monday to finalise the details of Trump's visit, Starmer's spokesperson said. \\n\n",
    "Those talks will be complicated by Starmer's decision last week to fire Peter Mandelson, his ambassador to the United States, over his ties with the late convicted U.S. sex offender Jeffrey Epstein. \\n\n",
    "The sacking is deeply embarrassing for Starmer, who appointed him to Britain's most desirable diplomatic post less than a year ago. \\n\n",
    "This will be Trump's second visit to Britain in the last two months after he spent time in Scotland at his golf courses at the end of July. \\n\n",
    "During this week's visit, Starmer's spokesperson said there would also be announcements on deepening cultural ties, including promoting basketball in Britain and developing partnerships between heritage and art institutions. \\n\n",
    "($1 = 0.7377 pounds) \\n\n",
    "\"\"\",\n",
    "    \"source\": \"Reuters\",\n",
    "    \"url\": \"https://www.reuters.com/world/uk/uk-us-announce-tech-energy-deals-during-trump-visit-2025-09-14/\",\n",
    "    \"timestamp\": \"11:10:00 14:09:2025\"\n",
    "}"
   ]
  },
  {
   "cell_type": "code",
   "execution_count": 3,
   "id": "aa6d6b82",
   "metadata": {},
   "outputs": [
    {
     "data": {
      "text/plain": [
       "['headline', 'content', 'source', 'url', 'timestamp']"
      ]
     },
     "execution_count": 3,
     "metadata": {},
     "output_type": "execute_result"
    }
   ],
   "source": [
    "list(new.keys())"
   ]
  },
  {
   "cell_type": "code",
   "execution_count": 4,
   "id": "60122841",
   "metadata": {},
   "outputs": [
    {
     "name": "stdout",
     "output_type": "stream",
     "text": [
      "Learns patterns from data to make predictions or decisions.\n"
     ]
    }
   ],
   "source": [
    "from google import genai\n",
    "from dotenv import load_dotenv\n",
    "import os\n",
    "\n",
    "load_dotenv()\n",
    "\n",
    "GEMINI_API_KEY = os.getenv(\"GEMINI_API_KEY\", \"\")\n",
    "client = genai.Client(api_key=GEMINI_API_KEY)\n",
    "\n",
    "response = client.models.generate_content(\n",
    "    model=\"gemini-2.5-flash\", contents=\"Explain how AI works in a few words\"\n",
    ")\n",
    "\n",
    "print(response.text)"
   ]
  },
  {
   "cell_type": "code",
   "execution_count": 10,
   "id": "0a967178",
   "metadata": {},
   "outputs": [],
   "source": [
    "prompt = f\"\"\"Extract knowledge triplets from this news article.\n",
    "\n",
    "TASK: Convert key facts into (subject, verb, object) format.\n",
    "\n",
    "RULES:\n",
    "- Use simple, present tense verbs when possible\n",
    "- Keep subjects and objects concise (1 words and clearly defined)\n",
    "- Focus on factual relationships, not opinions or speculation\n",
    "- Preserve important entities (names, places, organizations)\n",
    "- Skip redundant or trivial information\n",
    "- Return only the Python list format\n",
    "\n",
    "ARTICLE:\n",
    "{new[\"headline\"]}\n",
    "{new[\"content\"]}\n",
    "\n",
    "OUTPUT FORMAT:\n",
    "[(\"subject\", \"verb\", \"object\"), ...]\n",
    "\"\"\""
   ]
  },
  {
   "cell_type": "code",
   "execution_count": 13,
   "id": "e636dce0",
   "metadata": {},
   "outputs": [
    {
     "name": "stdout",
     "output_type": "stream",
     "text": [
      "[('Donald Trump', 'makes', 'state visit'), ('Donald Trump', 'visits', 'Britain'), ('State visit', 'occurs', 'September 16-18'), ('United States', 'announces', 'agreements'), ('Britain', 'announces', 'agreements'), ('Agreements', 'involve', 'technology'), ('Agreements', 'involve', 'civil nuclear energy'), ('Steel tariffs', 'await', 'finalisation'), ('Donald Trump', 'receives', 'royal pageantry'), ('Melania', 'receives', 'royal pageantry'), ('Royal pageantry', 'includes', 'carriage tour'), ('Royal pageantry', 'includes', 'state banquet'), ('Royal pageantry', 'includes', 'military flypast'), ('Royal pageantry', 'includes', 'gun salute'), ('British government', 'seeks', 'tighter ties'), ('Ties', 'are', 'defence'), ('Ties', 'are', 'security'), ('Ties', 'are', 'energy'), ('British government', 'secured', 'tariff deal'), ('Keir Starmer', 'hosts', 'Donald Trump'), ('Keir Starmer', 'hosts', 'Trump at Chequers'), ('Starmer and Trump', 'discuss', 'closer cooperation'), ('Cooperation', 'concerns', 'Ukraine'), ('Starmer and Trump', 'aim to finalise', 'tariffs'), ('Tariffs', 'apply to', 'steel'), ('Tariffs', 'apply to', 'aluminium'), ('Leaders', 'sign', 'tech partnership'), ('Tech partnership', 'is', 'world-leading'), ('Countries', 'sign', 'multi-billion dollar deals'), ('Deals', 'develop', 'small nuclear projects'), ('Small nuclear projects', 'can power', 'AI data centres'), ('Starmer and Trump', 'have', 'good relationship'), ('Keir Starmer', 'agreed', 'economic deal'), ('Economic deal', 'is with', 'Donald Trump'), ('Economic deal', 'reduces', 'global tariffs'), ('United States', 'plans', 'tariff reductions'), ('Tariff reductions', 'concern', 'cars'), ('Tariff reductions', 'concern', 'aluminium'), ('Tariff reductions', 'concern', 'steel'), ('Car tariffs', 'were agreed', 'in June'), ('Steel and aluminium deal', 'awaits', 'finalisation'), ('Britain', 'announces', 'U.S. investment'), ('Investment', 'totals', '1.25 billion pounds'), ('Investment', 'comes from', 'PayPal'), ('Investment', 'comes from', 'Bank of America'), ('Nvidia', 'expects to announce', 'investment deals'), ('OpenAI', 'expects to announce', 'investment deals'), ('Investment deals', 'are part of', 'technology agreement'), ('CoreWeave', 'will announce', 'investments'), ('CoreWeave', 'is', 'cloud computing provider'), ('Investments', 'are in', 'Britain'), ('British officials', 'are in', 'United States'), ('Officials', 'finalise', 'Trump visit details'), ('Keir Starmer', 'fired', 'Peter Mandelson'), ('Peter Mandelson', 'was', 'ambassador'), ('Mandelson', 'had ties with', 'Jeffrey Epstein'), ('Jeffrey Epstein', 'was', 'sex offender'), ('Keir Starmer', 'appointed', 'Peter Mandelson'), ('Mandelson', 'held', 'diplomatic post'), ('Announcements', 'concern', 'cultural ties'), ('Cultural ties', 'include', 'basketball promotion'), ('Cultural ties', 'include', 'partnership development'), ('Partnerships', 'involve', 'heritage institutions'), ('Partnerships', 'involve', 'art institutions')]\n"
     ]
    }
   ],
   "source": [
    "import ast\n",
    "\n",
    "response = client.models.generate_content(\n",
    "    model=\"gemini-2.5-flash\", contents=prompt\n",
    ")\n",
    "\n",
    "triplets = ast.literal_eval(response.text.split('```python')[1].split('```')[0].strip())\n",
    "print(triplets)"
   ]
  },
  {
   "cell_type": "code",
   "execution_count": 14,
   "id": "d83f035c",
   "metadata": {},
   "outputs": [
    {
     "data": {
      "text/plain": [
       "[('Donald Trump', 'makes', 'state visit'),\n",
       " ('Donald Trump', 'visits', 'Britain'),\n",
       " ('State visit', 'occurs', 'September 16-18'),\n",
       " ('United States', 'announces', 'agreements'),\n",
       " ('Britain', 'announces', 'agreements'),\n",
       " ('Agreements', 'involve', 'technology'),\n",
       " ('Agreements', 'involve', 'civil nuclear energy'),\n",
       " ('Steel tariffs', 'await', 'finalisation'),\n",
       " ('Donald Trump', 'receives', 'royal pageantry'),\n",
       " ('Melania', 'receives', 'royal pageantry'),\n",
       " ('Royal pageantry', 'includes', 'carriage tour'),\n",
       " ('Royal pageantry', 'includes', 'state banquet'),\n",
       " ('Royal pageantry', 'includes', 'military flypast'),\n",
       " ('Royal pageantry', 'includes', 'gun salute'),\n",
       " ('British government', 'seeks', 'tighter ties'),\n",
       " ('Ties', 'are', 'defence'),\n",
       " ('Ties', 'are', 'security'),\n",
       " ('Ties', 'are', 'energy'),\n",
       " ('British government', 'secured', 'tariff deal'),\n",
       " ('Keir Starmer', 'hosts', 'Donald Trump'),\n",
       " ('Keir Starmer', 'hosts', 'Trump at Chequers'),\n",
       " ('Starmer and Trump', 'discuss', 'closer cooperation'),\n",
       " ('Cooperation', 'concerns', 'Ukraine'),\n",
       " ('Starmer and Trump', 'aim to finalise', 'tariffs'),\n",
       " ('Tariffs', 'apply to', 'steel'),\n",
       " ('Tariffs', 'apply to', 'aluminium'),\n",
       " ('Leaders', 'sign', 'tech partnership'),\n",
       " ('Tech partnership', 'is', 'world-leading'),\n",
       " ('Countries', 'sign', 'multi-billion dollar deals'),\n",
       " ('Deals', 'develop', 'small nuclear projects'),\n",
       " ('Small nuclear projects', 'can power', 'AI data centres'),\n",
       " ('Starmer and Trump', 'have', 'good relationship'),\n",
       " ('Keir Starmer', 'agreed', 'economic deal'),\n",
       " ('Economic deal', 'is with', 'Donald Trump'),\n",
       " ('Economic deal', 'reduces', 'global tariffs'),\n",
       " ('United States', 'plans', 'tariff reductions'),\n",
       " ('Tariff reductions', 'concern', 'cars'),\n",
       " ('Tariff reductions', 'concern', 'aluminium'),\n",
       " ('Tariff reductions', 'concern', 'steel'),\n",
       " ('Car tariffs', 'were agreed', 'in June'),\n",
       " ('Steel and aluminium deal', 'awaits', 'finalisation'),\n",
       " ('Britain', 'announces', 'U.S. investment'),\n",
       " ('Investment', 'totals', '1.25 billion pounds'),\n",
       " ('Investment', 'comes from', 'PayPal'),\n",
       " ('Investment', 'comes from', 'Bank of America'),\n",
       " ('Nvidia', 'expects to announce', 'investment deals'),\n",
       " ('OpenAI', 'expects to announce', 'investment deals'),\n",
       " ('Investment deals', 'are part of', 'technology agreement'),\n",
       " ('CoreWeave', 'will announce', 'investments'),\n",
       " ('CoreWeave', 'is', 'cloud computing provider'),\n",
       " ('Investments', 'are in', 'Britain'),\n",
       " ('British officials', 'are in', 'United States'),\n",
       " ('Officials', 'finalise', 'Trump visit details'),\n",
       " ('Keir Starmer', 'fired', 'Peter Mandelson'),\n",
       " ('Peter Mandelson', 'was', 'ambassador'),\n",
       " ('Mandelson', 'had ties with', 'Jeffrey Epstein'),\n",
       " ('Jeffrey Epstein', 'was', 'sex offender'),\n",
       " ('Keir Starmer', 'appointed', 'Peter Mandelson'),\n",
       " ('Mandelson', 'held', 'diplomatic post'),\n",
       " ('Announcements', 'concern', 'cultural ties'),\n",
       " ('Cultural ties', 'include', 'basketball promotion'),\n",
       " ('Cultural ties', 'include', 'partnership development'),\n",
       " ('Partnerships', 'involve', 'heritage institutions'),\n",
       " ('Partnerships', 'involve', 'art institutions')]"
      ]
     },
     "execution_count": 14,
     "metadata": {},
     "output_type": "execute_result"
    }
   ],
   "source": [
    "triplets"
   ]
  }
 ],
 "metadata": {
  "kernelspec": {
   "display_name": ".venv",
   "language": "python",
   "name": "python3"
  },
  "language_info": {
   "codemirror_mode": {
    "name": "ipython",
    "version": 3
   },
   "file_extension": ".py",
   "mimetype": "text/x-python",
   "name": "python",
   "nbconvert_exporter": "python",
   "pygments_lexer": "ipython3",
   "version": "3.13.7"
  }
 },
 "nbformat": 4,
 "nbformat_minor": 5
}
