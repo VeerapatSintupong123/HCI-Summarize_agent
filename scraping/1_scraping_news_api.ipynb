{
 "cells": [
  {
   "cell_type": "code",
   "execution_count": 51,
   "id": "eb4c9c3a",
   "metadata": {},
   "outputs": [],
   "source": [
    "import requests\n",
    "import json \n",
    "from datetime import datetime, timedelta\n",
    "import os\n",
    "import math"
   ]
  },
  {
   "cell_type": "code",
   "execution_count": 52,
   "id": "0ea8e6d6",
   "metadata": {},
   "outputs": [],
   "source": [
    "API_KEY = '7eb571b97f8440118c46dc8c74279e0e'\n",
    "# QUERY = [\"NVIDIA\", \"AMD\", \"Intel\"]\n",
    "QUERY = [\"NVIDIA\"]\n",
    "# DATE_FROM = (datetime.now() - timedelta(days=30)).strftime('%Y-%m-%d')\n",
    "DATE_FROM = '2025-09-20'\n",
    "DATE_NOW = datetime.now().strftime('%Y-%m-%d')"
   ]
  },
  {
   "cell_type": "code",
   "execution_count": 53,
   "id": "96a6ce1a",
   "metadata": {},
   "outputs": [],
   "source": [
    "def fetch_news(api_key, query, date_from, date_to):\n",
    "    if date_from > date_to:\n",
    "        raise ValueError(\"date_from must be earlier than date_to\")\n",
    "    if not is_valid_date(date_from) or  not is_valid_date(date_to):\n",
    "        raise ValueError(\"Dates must be in YYYY-MM-DD format\")\n",
    "\n",
    "    url = f\"https://newsapi.org/v2/everything?q={query}&from={date_from}&to={date_to}&language=en&apiKey={api_key}\"\n",
    "    response = requests.get(url)\n",
    "    total_articles = response.json().get('totalResults', 0)\n",
    "    total_pages = int(math.ceil(total_articles / 100))\n",
    "    articles = response.json().get('articles', [])\n",
    "\n",
    "    if response.status_code == 200:\n",
    "        return (articles,total_pages, total_articles)\n",
    "    else:\n",
    "        return {\"error\": \"Failed to fetch news\"}\n",
    "\n",
    "def fetch_news_all_pages(url, total_pages):\n",
    "    all_articles = []\n",
    "    for page in range(2, total_pages + 1):\n",
    "        paged_url = f\"{url}&page={page}\"\n",
    "        response = requests.get(paged_url)\n",
    "        if response.status_code == 200:\n",
    "            data = response.json()\n",
    "            articles = data.get('articles', [])\n",
    "            print(len(articles))\n",
    "\n",
    "            all_articles.extend(data.get('articles', []))\n",
    "        else:\n",
    "            print(f\"Failed to fetch page {page}, {response.text}\")\n",
    "            break\n",
    "    return all_articles\n",
    "\n",
    "def is_valid_date(date_string):\n",
    "    \"\"\"\n",
    "    Checks if a string can be parsed into a date according to a specific format.\n",
    "    \"\"\"\n",
    "    try:\n",
    "        for fmt in (\"%Y-%m-%d\", \"%Y-%m-%dT%H:%M:%S\"):\n",
    "            try:\n",
    "                datetime.strptime(date_string, fmt)\n",
    "                return True\n",
    "            except ValueError:\n",
    "                continue\n",
    "        return False\n",
    "    except ValueError:\n",
    "        return False"
   ]
  },
  {
   "cell_type": "code",
   "execution_count": 54,
   "id": "3b7fb4a9",
   "metadata": {},
   "outputs": [],
   "source": [
    "def main():\n",
    "    all_articles = []\n",
    "\n",
    "    for company in QUERY:\n",
    "        articles, total_pages, total_articles = fetch_news(API_KEY, query=company, date_from=DATE_FROM, date_to=DATE_NOW)\n",
    "        \n",
    "        print(f\"Total Articles for {company}: {total_articles}\")\n",
    "        print(f\"Total Pages for {company}: {total_pages}\")\n",
    "        print(f\"Articles on First Page for {company}: {len(articles)}\")\n",
    "        if total_pages >= 2:\n",
    "            print(f\"Fetching additional {total_pages - 1} pages for {company}...\")\n",
    "            url = f\"https://newsapi.org/v2/everything?q={company}&from={DATE_FROM}&to={DATE_NOW}&language=en&apiKey={API_KEY}\"\n",
    "            additional_articles = fetch_news_all_pages(url, total_pages)\n",
    "            print(f\"Total Articles fetched for {company}: {len(articles) + len(additional_articles)}\")\n",
    "        \n",
    "            company_articles = articles + additional_articles\n",
    "        else:\n",
    "            company_articles = articles\n",
    "\n",
    "        all_articles.extend(company_articles)\n",
    "\n",
    "        file_name = f\"{datetime.now().strftime('%Y%m%d_%H%M%S')}_{company}.json\"\n",
    "\n",
    "        if not os.path.exists(r'../data/raw/news_api'):\n",
    "            os.makedirs(r'../data/raw/news_api')\n",
    "        path = os.path.join(r'../data/raw/news_api', file_name)\n",
    "\n",
    "        with open(path, \"w\", encoding=\"utf-8\") as f:\n",
    "            json.dump(company_articles, f, ensure_ascii=False, indent=4)\n",
    "        print(f\"Saved {len(company_articles)} articles to {path}\")"
   ]
  },
  {
   "cell_type": "code",
   "execution_count": 55,
   "id": "7b8d9c8b",
   "metadata": {},
   "outputs": [
    {
     "name": "stdout",
     "output_type": "stream",
     "text": [
      "Fetching news from 2025-09-20 to 2025-09-22\n",
      "Queries: NVIDIA\n",
      "Total Articles for NVIDIA: 159\n",
      "Total Pages for NVIDIA: 2\n",
      "Articles on First Page for NVIDIA: 100\n",
      "Fetching additional 1 pages for NVIDIA...\n",
      "57\n",
      "Total Articles fetched for NVIDIA: 157\n",
      "Saved 157 articles to ../data/raw/news_api\\20250922_145607_NVIDIA.json\n"
     ]
    }
   ],
   "source": [
    "print(f\"Fetching news from {DATE_FROM} to {DATE_NOW}\")\n",
    "print(f\"Queries: {', '.join(QUERY)}\")\n",
    "changes_made = input(\"Change the date range? (y/n): \")\n",
    "if changes_made.lower() == 'y':\n",
    "    while True:\n",
    "        new_date_from = input(\"Enter new start date (YYYY-MM-DD): \")\n",
    "        new_date_to = input(\"Enter new end date (YYYY-MM-DD): \")\n",
    "        if is_valid_date(new_date_from) and is_valid_date(new_date_to):\n",
    "            if new_date_from <= new_date_to:\n",
    "                DATE_FROM, DATE_NOW = new_date_from, new_date_to\n",
    "                break\n",
    "            else:\n",
    "                print(\"Error: Start date must be earlier than end date.\")\n",
    "        else:\n",
    "            print(\"Error: Invalid date format. Please use YYYY-MM-DD.\")\n",
    "main()"
   ]
  }
 ],
 "metadata": {
  "kernelspec": {
   "display_name": "venv",
   "language": "python",
   "name": "python3"
  },
  "language_info": {
   "codemirror_mode": {
    "name": "ipython",
    "version": 3
   },
   "file_extension": ".py",
   "mimetype": "text/x-python",
   "name": "python",
   "nbconvert_exporter": "python",
   "pygments_lexer": "ipython3",
   "version": "3.13.5"
  }
 },
 "nbformat": 4,
 "nbformat_minor": 5
}
