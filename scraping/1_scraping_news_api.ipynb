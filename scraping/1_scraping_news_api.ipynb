{
 "cells": [
  {
   "cell_type": "code",
   "execution_count": 2,
   "id": "eb4c9c3a",
   "metadata": {},
   "outputs": [],
   "source": [
    "import requests\n",
    "import json \n",
    "from datetime import datetime, timedelta\n",
    "import os"
   ]
  },
  {
   "cell_type": "code",
   "execution_count": null,
   "id": "96a6ce1a",
   "metadata": {},
   "outputs": [],
   "source": [
    "def fetch_news(api_key, query, date_from, date_to):\n",
    "    if date_from > date_to:\n",
    "        raise ValueError(\"date_from must be earlier than date_to\")\n",
    "    if not is_valid_date(date_from) or  not is_valid_date(date_to):\n",
    "        raise ValueError(\"Dates must be in YYYY-MM-DD format\")\n",
    "\n",
    "    url = f\"https://newsapi.org/v2/everything?q={query}&apiKey={api_key}&from={date_from}&to={date_to}&language=en\"\n",
    "    response = requests.get(url)\n",
    "    if response.status_code == 200:\n",
    "        return json.loads(response.text)\n",
    "    else:\n",
    "        return {\"error\": \"Failed to fetch news\"}\n",
    "\n",
    "def is_valid_date(date_string):\n",
    "    \"\"\"\n",
    "    Checks if a string can be parsed into a date according to a specific format.\n",
    "    \"\"\"\n",
    "    try:\n",
    "        for fmt in (\"%Y-%m-%d\", \"%Y-%m-%dT%H:%M:%S\"):\n",
    "            try:\n",
    "                datetime.strptime(date_string, fmt)\n",
    "                return True\n",
    "            except ValueError:\n",
    "                continue\n",
    "        return False\n",
    "    except ValueError:\n",
    "        return False"
   ]
  },
  {
   "cell_type": "code",
   "execution_count": 11,
   "id": "43387b13",
   "metadata": {},
   "outputs": [
    {
     "name": "stdout",
     "output_type": "stream",
     "text": [
      "True\n"
     ]
    }
   ],
   "source": [
    "print(is_valid_date(\"2025-09-22T04:07:50\"))"
   ]
  }
 ],
 "metadata": {
  "kernelspec": {
   "display_name": "venv",
   "language": "python",
   "name": "python3"
  },
  "language_info": {
   "codemirror_mode": {
    "name": "ipython",
    "version": 3
   },
   "file_extension": ".py",
   "mimetype": "text/x-python",
   "name": "python",
   "nbconvert_exporter": "python",
   "pygments_lexer": "ipython3",
   "version": "3.13.5"
  }
 },
 "nbformat": 4,
 "nbformat_minor": 5
}
