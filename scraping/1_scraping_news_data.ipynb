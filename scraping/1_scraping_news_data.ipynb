{
 "cells": [
  {
   "cell_type": "code",
   "execution_count": 2,
   "id": "9501da57",
   "metadata": {},
   "outputs": [
    {
     "name": "stdout",
     "output_type": "stream",
     "text": [
      "Fetching news for NVIDIA...\n"
     ]
    },
    {
     "name": "stderr",
     "output_type": "stream",
     "text": [
      "C:\\Users\\sschw\\AppData\\Local\\Temp\\ipykernel_19512\\580143013.py:13: DeprecationWarning: This method is deprecated and will be removed in upcoming updates, Instead use latest_api()\n",
      "  response = api.news_api(\n"
     ]
    },
    {
     "name": "stdout",
     "output_type": "stream",
     "text": [
      "Added: 5 Of The Largest Infotainment Systems That Come Standard In Today's Vehicles\n",
      "Total articles fetched: 1\n",
      "Saved to tech_news.json\n"
     ]
    }
   ],
   "source": [
    "from newsdataapi import NewsDataApiClient\n",
    "from newspaper import Article\n",
    "import json\n",
    "\n",
    "api = NewsDataApiClient(apikey=\"pub_70b63fee186742658db1dfb76d4a52c7\")\n",
    "\n",
    "keywords = [\"NVIDIA\", \"AMD\", \"INTEL\"]\n",
    "\n",
    "all_articles = []\n",
    "\n",
    "for keyword in keywords:\n",
    "    print(f\"Fetching news for {keyword}...\")\n",
    "    response = api.news_api(\n",
    "        q=keyword,\n",
    "        language=\"en\",\n",
    "        country=\"us\"\n",
    "    )\n",
    "\n",
    "    for news in response.get('results', []):\n",
    "        url = news.get('link')\n",
    "        try:\n",
    "            article = Article(url)\n",
    "            article.download()\n",
    "            article.parse()\n",
    "\n",
    "            news_data = {\n",
    "                \"keyword\": keyword,\n",
    "                \"title\": article.title,\n",
    "                \"authors\": article.authors,\n",
    "                \"publish_date\": str(article.publish_date),\n",
    "                \"content\": article.text,\n",
    "                \"url\": url\n",
    "            }\n",
    "\n",
    "            all_articles.append(news_data)\n",
    "            print(f\"Added: {article.title}\")\n",
    "\n",
    "        except Exception as e:\n",
    "            print(f\"Error downloading {url}: {e}\")\n",
    "        break\n",
    "    break\n",
    "\n",
    "with open(\"tech_news.json\", \"w\", encoding=\"utf-8\") as f:\n",
    "    json.dump(all_articles, f, ensure_ascii=False, indent=2)\n",
    "\n",
    "print(f\"Total articles fetched: {len(all_articles)}\")\n",
    "print(\"Saved to tech_news.json\")"
   ]
  }
 ],
 "metadata": {
  "kernelspec": {
   "display_name": "venv",
   "language": "python",
   "name": "python3"
  },
  "language_info": {
   "codemirror_mode": {
    "name": "ipython",
    "version": 3
   },
   "file_extension": ".py",
   "mimetype": "text/x-python",
   "name": "python",
   "nbconvert_exporter": "python",
   "pygments_lexer": "ipython3",
   "version": "3.13.5"
  }
 },
 "nbformat": 4,
 "nbformat_minor": 5
}
