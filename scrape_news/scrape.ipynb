{
 "cells": [
  {
   "cell_type": "code",
   "execution_count": null,
   "id": "bbc7326d",
   "metadata": {
    "vscode": {
     "languageId": "plaintext"
    }
   },
   "outputs": [],
   "source": [
    "!pip install newsdataapi newspaper3k lxml_html_clean"
   ]
  },
  {
   "cell_type": "code",
   "execution_count": null,
   "id": "e3b4ac26",
   "metadata": {
    "vscode": {
     "languageId": "plaintext"
    }
   },
   "outputs": [],
   "source": [
    "from newsdataapi import NewsDataApiClient\n",
    "from newspaper import Article\n",
    "import json\n",
    "from datetime import datetime \n",
    "\n",
    "# 1️⃣ ตั้งค่า API\n",
    "api = NewsDataApiClient(apikey=\"pub_70b63fee186742658db1dfb76d4a52c7\")\n",
    "\n",
    "# 2️⃣ กำหนดคีย์เวิร์ดที่สนใจ\n",
    "keywords = [\"Nvidia\", \"AMD\", \"Intel\"]\n",
    "\n",
    "# 3️⃣ เตรียม dictionary ตาม format ที่ต้องการ\n",
    "all_articles = {key: [] for key in keywords}\n",
    "\n",
    "for keyword in keywords:\n",
    "    print(f\"Fetching news for {keyword}...\")\n",
    "    response = api.news_api(\n",
    "        q=keyword,\n",
    "        category=\"business,lifestyle,technology,top,science\",\n",
    "        language=\"en\",\n",
    "        country=\"us\"\n",
    "    )\n",
    "\n",
    "    for news in response.get('results', []):\n",
    "        url = news.get('link')\n",
    "        source_name = news.get('source_id', '')  # ใช้ source จาก API\n",
    "        try:\n",
    "            article = Article(url)\n",
    "            article.download()\n",
    "            article.parse()\n",
    "\n",
    "            # แปลง publish_date ให้เป็น date (YYYY-MM-DD)\n",
    "            if article.publish_date:\n",
    "                timestamp = article.publish_date.date().isoformat()\n",
    "            else:\n",
    "                timestamp = None  # หรือ \"\" ถ้าต้องการ string ว่าง\n",
    "\n",
    "            news_data = {\n",
    "                \"headline\": article.title,\n",
    "                \"content\": article.text,\n",
    "                \"source\": source_name,\n",
    "                \"url\": url,\n",
    "                \"timestamp\": timestamp\n",
    "            }\n",
    "\n",
    "            all_articles[keyword].append(news_data)\n",
    "            print(f\"Added: {article.title}\")\n",
    "\n",
    "        except Exception as e:\n",
    "            print(f\"Error downloading {url}: {e}\")\n",
    "\n",
    "# 4️⃣ สร้างชื่อไฟล์จากวันปัจจุบัน\n",
    "today_str = datetime.now().strftime(\"%d%m%Y\")  # เช่น 19092025\n",
    "filename = f\"{today_str}.json\"\n",
    "\n",
    "# 5️⃣ บันทึกเป็นไฟล์ JSON\n",
    "with open(filename, \"w\", encoding=\"utf-8\") as f:\n",
    "    json.dump(all_articles, f, ensure_ascii=False, indent=2)\n",
    "\n",
    "print(f\"Saved to {filename}\")\n"
   ]
  }
 ],
 "metadata": {
  "language_info": {
   "name": "python"
  }
 },
 "nbformat": 4,
 "nbformat_minor": 5
}
