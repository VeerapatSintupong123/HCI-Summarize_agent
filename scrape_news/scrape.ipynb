{
 "cells": [
  {
   "cell_type": "code",
   "execution_count": null,
   "id": "bbc7326d",
   "metadata": {
    "vscode": {
     "languageId": "plaintext"
    }
   },
   "outputs": [],
   "source": [
    "!pip install newsdataapi newspaper3k lxml_html_clean"
   ]
  },
  {
   "cell_type": "code",
   "execution_count": null,
   "id": "e3b4ac26",
   "metadata": {
    "vscode": {
     "languageId": "plaintext"
    }
   },
   "outputs": [],
   "source": [
    "from newsdataapi import NewsDataApiClient\n",
    "from newspaper import Article\n",
    "import json\n",
    "from datetime import datetime\n",
    "from concurrent.futures import ThreadPoolExecutor, as_completed\n",
    "\n",
    "# 1️⃣ ตั้งค่า API\n",
    "api = NewsDataApiClient(apikey=\"pub_70b63fee186742658db1dfb76d4a52c7\")\n",
    "\n",
    "# 2️⃣ กำหนดคีย์เวิร์ด\n",
    "keywords = [\"Nvidia\", \"AMD\", \"Intel\"]\n",
    "\n",
    "# 3️⃣ เตรียม dictionary\n",
    "all_articles = {key: [] for key in keywords}\n",
    "\n",
    "# ฟังก์ชันโหลด article\n",
    "def fetch_article(news):\n",
    "    url = news.get('link')\n",
    "    source_name = news.get('source_id', '')\n",
    "\n",
    "    # ใช้วันที่จาก API\n",
    "    pub_date_str = news.get('pubDate')\n",
    "    if pub_date_str:\n",
    "        try:\n",
    "            timestamp = datetime.strptime(pub_date_str, \"%Y-%m-%d %H:%M:%S\").date().isoformat()\n",
    "        except ValueError:\n",
    "            timestamp = pub_date_str\n",
    "    else:\n",
    "        timestamp = None\n",
    "\n",
    "    try:\n",
    "        # โหลด full text ด้วย newspaper\n",
    "        article = Article(url)\n",
    "        article.download()\n",
    "        article.parse()\n",
    "        content = article.text.strip()\n",
    "\n",
    "        # ตรวจสอบ content ว่างหรือ copyright warning\n",
    "        if content == \"\" or \"Copyright\" in content or \"All rights reserved\" in content:\n",
    "            headline = news.get('title', '')\n",
    "            content = news.get('description', '')\n",
    "        else:\n",
    "            headline = article.title\n",
    "\n",
    "        return {\n",
    "            \"headline\": headline,\n",
    "            \"content\": content,\n",
    "            \"source\": source_name,\n",
    "            \"url\": url,\n",
    "            \"timestamp\": timestamp\n",
    "        }\n",
    "\n",
    "    except Exception as e:\n",
    "        print(f\"Error downloading {url}: {e}\")\n",
    "        # fallback เป็น API data\n",
    "        return {\n",
    "            \"headline\": news.get('title', ''),\n",
    "            \"content\": news.get('description', ''),\n",
    "            \"source\": source_name,\n",
    "            \"url\": url,\n",
    "            \"timestamp\": timestamp\n",
    "        }\n",
    "\n",
    "# 4️⃣ ดึงข่าวแต่ละ keyword\n",
    "for keyword in keywords:\n",
    "    print(f\"Fetching news for {keyword}...\")\n",
    "    response = api.news_api(\n",
    "        q=keyword,\n",
    "        category=\"business,lifestyle,technology,top,science\",\n",
    "        language=\"en\",\n",
    "        country=\"us\"\n",
    "    )\n",
    "\n",
    "    articles = response.get('results', [])\n",
    "    # ใช้ ThreadPoolExecutor โหลดหลายบทความพร้อมกัน\n",
    "    with ThreadPoolExecutor(max_workers=5) as executor:\n",
    "        futures = [executor.submit(fetch_article, news) for news in articles]\n",
    "        for future in as_completed(futures):\n",
    "            article_data = future.result()\n",
    "            all_articles[keyword].append(article_data)\n",
    "            print(f\"Added: {article_data['headline']}\")\n",
    "\n",
    "# 5️⃣ สร้างชื่อไฟล์\n",
    "today_str = datetime.now().strftime(\"%d%m%Y\")\n",
    "filename = f\"{today_str}.json\"\n",
    "\n",
    "# 6️⃣ บันทึก JSON\n",
    "with open(filename, \"w\", encoding=\"utf-8\") as f:\n",
    "    json.dump(all_articles, f, ensure_ascii=False, indent=2)\n",
    "\n",
    "print(f\"Saved to {filename}\")\n"
   ]
  }
 ],
 "metadata": {
  "language_info": {
   "name": "python"
  }
 },
 "nbformat": 4,
 "nbformat_minor": 5
}
