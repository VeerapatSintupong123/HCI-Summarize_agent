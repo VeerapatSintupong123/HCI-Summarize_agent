{
 "cells": [
  {
   "cell_type": "code",
   "execution_count": 2,
   "id": "0d9feb55",
   "metadata": {},
   "outputs": [],
   "source": [
    "import json, re\n",
    "from pathlib import Path\n",
    "from langchain.text_splitter import RecursiveCharacterTextSplitter\n",
    "from langchain_community.vectorstores import FAISS\n",
    "from langchain_community.embeddings import HuggingFaceEmbeddings"
   ]
  },
  {
   "cell_type": "code",
   "execution_count": 3,
   "id": "779b059e",
   "metadata": {},
   "outputs": [
    {
     "name": "stdout",
     "output_type": "stream",
     "text": [
      "JSON path: mock_news.json\n",
      "Vector DB path: mock_news_vector_db\n"
     ]
    }
   ],
   "source": [
    "JSON_PATH = Path(\"mock_news.json\")\n",
    "VECTOR_PATH = \"mock_news_vector_db\"\n",
    "print(\"JSON path:\", JSON_PATH)\n",
    "print(\"Vector DB path:\", VECTOR_PATH)"
   ]
  },
  {
   "cell_type": "code",
   "execution_count": 4,
   "id": "a0acb9b9",
   "metadata": {},
   "outputs": [
    {
     "name": "stdout",
     "output_type": "stream",
     "text": [
      "Before: This is a test   text with a link http://example.com\n",
      "After:  This is a test text with a link\n"
     ]
    }
   ],
   "source": [
    "def clean_text(text: str) -> str:\n",
    "    text = re.sub(r\"http\\S+\", \"\", text)       # ลบ URL\n",
    "    text = re.sub(r\"\\s+\", \" \", text).strip()  # ลดช่องว่างเกิน\n",
    "    return text\n",
    "\n",
    "sample_text = \"This is a test   text with a link http://example.com\"\n",
    "cleaned = clean_text(sample_text)\n",
    "print(\"Before:\", sample_text)\n",
    "print(\"After: \", cleaned)"
   ]
  },
  {
   "cell_type": "code",
   "execution_count": 5,
   "id": "b29dd220",
   "metadata": {},
   "outputs": [
    {
     "name": "stdout",
     "output_type": "stream",
     "text": [
      "✅ Loaded 3 news items\n",
      "\n",
      "ตัวอย่างข่าว 1:\n",
      "Category: Nvidia\n",
      "Headline: Nvidia acquires AI startup\n",
      "Source: biztoc\n",
      "Content: Nvidia just spent over $900 million to hire Enfabrica CEO and license the AI startup's technology. This move strengthens Nvidia's data-center and AI infrastructure strategy.\n",
      "Timestamp: 2025-09-18\n"
     ]
    }
   ],
   "source": [
    "def load_news(path: Path) -> list[str]:\n",
    "    with open(path, \"r\", encoding=\"utf-8\") as f:\n",
    "        data = json.load(f)\n",
    "\n",
    "    docs = []\n",
    "    for category, items in data.items():\n",
    "        for item in items:\n",
    "            content = clean_text(item.get(\"content\", \"\"))\n",
    "            full_text = (\n",
    "                f\"Category: {category}\\n\"\n",
    "                f\"Headline: {item.get('headline','')}\\n\"\n",
    "                f\"Source: {item.get('source','')}\\n\"\n",
    "                f\"Content: {content}\\n\"\n",
    "                f\"Timestamp: {item.get('timestamp','')}\"\n",
    "            )\n",
    "            docs.append(full_text)\n",
    "    return docs\n",
    "\n",
    "docs = load_news(JSON_PATH)\n",
    "print(f\"✅ Loaded {len(docs)} news items\")\n",
    "print(\"\\nตัวอย่างข่าว 1:\")\n",
    "print(docs[0] if docs else \"No news found\")"
   ]
  },
  {
   "cell_type": "code",
   "execution_count": 6,
   "id": "44cd9ce6",
   "metadata": {},
   "outputs": [
    {
     "name": "stdout",
     "output_type": "stream",
     "text": [
      "✅ Total chunks created: 3\n"
     ]
    },
    {
     "name": "stderr",
     "output_type": "stream",
     "text": [
      "C:\\Users\\ASUS\\AppData\\Local\\Temp\\ipykernel_27908\\2209545930.py:12: LangChainDeprecationWarning: The class `HuggingFaceEmbeddings` was deprecated in LangChain 0.2.2 and will be removed in 1.0. An updated version of the class exists in the :class:`~langchain-huggingface package and should be used instead. To use it run `pip install -U :class:`~langchain-huggingface` and import as `from :class:`~langchain_huggingface import HuggingFaceEmbeddings``.\n",
      "  embeddings = HuggingFaceEmbeddings(model_name=\"sentence-transformers/all-MiniLM-L6-v2\")\n",
      "c:\\HCI\\HCI-Summarize_agent\\chunk_news\\venv\\Lib\\site-packages\\tqdm\\auto.py:21: TqdmWarning: IProgress not found. Please update jupyter and ipywidgets. See https://ipywidgets.readthedocs.io/en/stable/user_install.html\n",
      "  from .autonotebook import tqdm as notebook_tqdm\n",
      "c:\\HCI\\HCI-Summarize_agent\\chunk_news\\venv\\Lib\\site-packages\\huggingface_hub\\file_download.py:143: UserWarning: `huggingface_hub` cache-system uses symlinks by default to efficiently store duplicated files but your machine does not support them in C:\\Users\\ASUS\\.cache\\huggingface\\hub\\models--sentence-transformers--all-MiniLM-L6-v2. Caching files will still work but in a degraded version that might require more space on your disk. This warning can be disabled by setting the `HF_HUB_DISABLE_SYMLINKS_WARNING` environment variable. For more details, see https://huggingface.co/docs/huggingface_hub/how-to-cache#limitations.\n",
      "To support symlinks on Windows, you either need to activate Developer Mode or to run Python as an administrator. In order to activate developer mode, see this article: https://docs.microsoft.com/en-us/windows/apps/get-started/enable-your-device-for-development\n",
      "  warnings.warn(message)\n",
      "Xet Storage is enabled for this repo, but the 'hf_xet' package is not installed. Falling back to regular HTTP download. For better performance, install the package with: `pip install huggingface_hub[hf_xet]` or `pip install hf_xet`\n"
     ]
    },
    {
     "name": "stdout",
     "output_type": "stream",
     "text": [
      "✅ Vector DB saved to: mock_news_vector_db\n"
     ]
    }
   ],
   "source": [
    "def build_vector_db(docs: list[str]):\n",
    "    splitter = RecursiveCharacterTextSplitter(\n",
    "        chunk_size=500, chunk_overlap=50, separators=[\"\\n\\n\", \"\\n\", \".\", \" \"]\n",
    "    )\n",
    "    chunks = []\n",
    "    for d in docs:\n",
    "        chunks.extend(splitter.split_text(d))\n",
    "\n",
    "    print(f\"✅ Total chunks created: {len(chunks)}\")\n",
    "\n",
    "    # ✅ ใช้โมเดลฟรีจาก Hugging Face (ไม่ต้องมี API key)\n",
    "    embeddings = HuggingFaceEmbeddings(model_name=\"sentence-transformers/all-MiniLM-L6-v2\")\n",
    "    vectordb = FAISS.from_texts(chunks, embeddings)\n",
    "    vectordb.save_local(VECTOR_PATH)\n",
    "    print(f\"✅ Vector DB saved to: {VECTOR_PATH}\")\n",
    "\n",
    "build_vector_db(docs[:3])"
   ]
  },
  {
   "cell_type": "code",
   "execution_count": 7,
   "id": "cb75a480",
   "metadata": {},
   "outputs": [
    {
     "name": "stdout",
     "output_type": "stream",
     "text": [
      "✅ Total chunks created: 3\n",
      "✅ Vector DB saved to: mock_news_vector_db\n"
     ]
    }
   ],
   "source": [
    "docs = load_news(JSON_PATH)\n",
    "build_vector_db(docs)"
   ]
  },
  {
   "cell_type": "code",
   "execution_count": 9,
   "id": "278aa082",
   "metadata": {},
   "outputs": [
    {
     "name": "stdout",
     "output_type": "stream",
     "text": [
      "\n",
      "🔍 ตัวอย่างผลการค้นหา:\n",
      "Category: Nvidia\n",
      "Headline: Nvidia acquires AI startup\n",
      "Source: biztoc\n",
      "Content: Nvidia just spent over $900 million to hire Enfabrica CEO and license the AI startup's technology. This move strengthens Nvidia's data-center and AI infrastructure strategy.\n",
      "Timestamp: 2025-09-18\n"
     ]
    }
   ],
   "source": [
    "embeddings = HuggingFaceEmbeddings(model_name=\"sentence-transformers/all-MiniLM-L6-v2\")\n",
    "db = FAISS.load_local(VECTOR_PATH, embeddings, allow_dangerous_deserialization=True)\n",
    "res = db.similarity_search(\"Nvidia acquisition\", k=1)\n",
    "print(\"\\n🔍 ตัวอย่างผลการค้นหา:\")\n",
    "print(res[0].page_content)"
   ]
  },
  {
   "cell_type": "code",
   "execution_count": 10,
   "id": "583bf8e9",
   "metadata": {},
   "outputs": [
    {
     "name": "stdout",
     "output_type": "stream",
     "text": [
      "\n",
      "🔍 Query: Nvidia acquisition\n",
      "🔹 Result snippet:\n",
      "Category: Nvidia\n",
      "Headline: Nvidia acquires AI startup\n",
      "Source: biztoc\n",
      "Content: Nvidia just spent over $900 million to hire Enfabrica CEO and license the AI startup's technology. This move strengthens Nvidia's data-center and AI infrastructure strategy.\n",
      "Timestamp: 2025-09-18\n"
     ]
    }
   ],
   "source": [
    "query = \"Nvidia acquisition\"\n",
    "res = db.similarity_search(query, k=1)\n",
    "\n",
    "print(\"\\n🔍 Query:\", query)\n",
    "print(\"🔹 Result snippet:\")\n",
    "print(res[0].page_content if res else \"No result found\")"
   ]
  }
 ],
 "metadata": {
  "kernelspec": {
   "display_name": "venv",
   "language": "python",
   "name": "python3"
  },
  "language_info": {
   "codemirror_mode": {
    "name": "ipython",
    "version": 3
   },
   "file_extension": ".py",
   "mimetype": "text/x-python",
   "name": "python",
   "nbconvert_exporter": "python",
   "pygments_lexer": "ipython3",
   "version": "3.13.3"
  }
 },
 "nbformat": 4,
 "nbformat_minor": 5
}
