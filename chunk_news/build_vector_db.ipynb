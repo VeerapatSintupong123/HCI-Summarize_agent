{
 "cells": [
  {
   "cell_type": "code",
   "execution_count": 1,
   "id": "0d9feb55",
   "metadata": {},
   "outputs": [],
   "source": [
    "import json, re\n",
    "from pathlib import Path\n",
    "from langchain.text_splitter import RecursiveCharacterTextSplitter\n",
    "from langchain_community.vectorstores import FAISS\n",
    "from langchain_community.embeddings import HuggingFaceEmbeddings"
   ]
  },
  {
   "cell_type": "code",
   "execution_count": 2,
   "id": "779b059e",
   "metadata": {},
   "outputs": [
    {
     "name": "stdout",
     "output_type": "stream",
     "text": [
      "JSON path: ..\\scrape_news\\22092025.json\n",
      "Vector DB path: 22092025_vector_db\n"
     ]
    }
   ],
   "source": [
    "JSON_PATH = Path('../scrape_news/22092025.json')\n",
    "VECTOR_PATH = \"22092025_vector_db\"\n",
    "print(\"JSON path:\", JSON_PATH)\n",
    "print(\"Vector DB path:\", VECTOR_PATH)"
   ]
  },
  {
   "cell_type": "code",
   "execution_count": 3,
   "id": "a0acb9b9",
   "metadata": {},
   "outputs": [
    {
     "name": "stdout",
     "output_type": "stream",
     "text": [
      "Before: This is a test   text \n",
      "with a link \n",
      "http://example.com\n",
      "After:  This is a test text with a link\n",
      "Testing with None: \n",
      "Testing with empty string: \n"
     ]
    }
   ],
   "source": [
    "def clean_text(text: str) -> str:\n",
    "    \"\"\"\n",
    "    Removes URLs and collapses excess whitespace from a string.\n",
    "    Handles None or empty inputs gracefully.\n",
    "\n",
    "    Args:\n",
    "        text: The input string to clean.\n",
    "\n",
    "    Returns:\n",
    "        The cleaned string.\n",
    "    \"\"\"\n",
    "    if not text:\n",
    "        return \"\"\n",
    "    # Remove URLs\n",
    "    text = re.sub(r\"http\\S+\", \"\", text)\n",
    "    # Reduce multiple whitespace characters to a single space\n",
    "    text = re.sub(r\"\\s+\", \" \", text).strip()\n",
    "    # Remove newlines\n",
    "    text = text.replace(\"\\n\", \" \").replace(\"\\r\", \" \")\n",
    "    return text\n",
    "\n",
    "sample_text = \"This is a test   text \\nwith a link \\nhttp://example.com\"\n",
    "cleaned = clean_text(sample_text)\n",
    "print(\"Before:\", sample_text)\n",
    "print(\"After: \", cleaned)\n",
    "\n",
    "# ทดสอบกับ None content\n",
    "print(\"Testing with None:\", clean_text(None))\n",
    "print(\"Testing with empty string:\", clean_text(\"\"))"
   ]
  },
  {
   "cell_type": "code",
   "execution_count": 4,
   "id": "b29dd220",
   "metadata": {},
   "outputs": [
    {
     "name": "stdout",
     "output_type": "stream",
     "text": [
      "✅ Loaded 30 news items\n",
      "\n",
      "ตัวอย่างข่าว 1:\n",
      "Category: Nvidia\n",
      "Headline: If you're looking for a gaming laptop on a budget, this is it\n",
      "Source: xda_developers\n",
      "Content: Save $290 off retail for a limited time\n",
      "Timestamp: 2025-09-21\n"
     ]
    }
   ],
   "source": [
    "def load_news(path) -> list[str]:  # เปลี่ยนเป็น path แทน Path object\n",
    "    with open(path, \"r\", encoding=\"utf-8\") as f:\n",
    "        data = json.load(f)\n",
    "\n",
    "    docs = []\n",
    "    for category, items in data.items():\n",
    "        for item in items:\n",
    "            content = clean_text(item.get(\"content\", \"\"))\n",
    "            full_text = (\n",
    "                f\"Category: {category}\\n\"\n",
    "                f\"Headline: {item.get('headline','')}\\n\"\n",
    "                f\"Source: {item.get('source','')}\\n\"\n",
    "                f\"Content: {content}\\n\"\n",
    "                f\"Timestamp: {item.get('timestamp','')}\"\n",
    "            )\n",
    "            docs.append(full_text)\n",
    "    return docs\n",
    "\n",
    "docs = load_news(Path('../scrape_news/22092025.json'))  # แก้ไข path ให้ถูกต้อง\n",
    "print(f\"✅ Loaded {len(docs)} news items\")\n",
    "print(\"\\nตัวอย่างข่าว 1:\")\n",
    "print(docs[0] if docs else \"No news found\")"
   ]
  },
  {
   "cell_type": "code",
   "execution_count": 5,
   "id": "44cd9ce6",
   "metadata": {},
   "outputs": [
    {
     "name": "stdout",
     "output_type": "stream",
     "text": [
      "✅ Total chunks created: 9\n"
     ]
    },
    {
     "name": "stderr",
     "output_type": "stream",
     "text": [
      "C:\\Users\\User\\AppData\\Local\\Temp\\ipykernel_3292\\2209545930.py:12: LangChainDeprecationWarning: The class `HuggingFaceEmbeddings` was deprecated in LangChain 0.2.2 and will be removed in 1.0. An updated version of the class exists in the :class:`~langchain-huggingface package and should be used instead. To use it run `pip install -U :class:`~langchain-huggingface` and import as `from :class:`~langchain_huggingface import HuggingFaceEmbeddings``.\n",
      "  embeddings = HuggingFaceEmbeddings(model_name=\"sentence-transformers/all-MiniLM-L6-v2\")\n",
      "d:\\CU\\learn31\\HCI\\main\\HCI-Summarize_agent\\.venv\\Lib\\site-packages\\tqdm\\auto.py:21: TqdmWarning: IProgress not found. Please update jupyter and ipywidgets. See https://ipywidgets.readthedocs.io/en/stable/user_install.html\n",
      "  from .autonotebook import tqdm as notebook_tqdm\n"
     ]
    },
    {
     "name": "stdout",
     "output_type": "stream",
     "text": [
      "✅ Vector DB saved to: 22092025_vector_db\n"
     ]
    }
   ],
   "source": [
    "def build_vector_db(docs: list[str]):\n",
    "    splitter = RecursiveCharacterTextSplitter(\n",
    "        chunk_size=500, chunk_overlap=50, separators=[\"\\n\\n\", \"\\n\", \".\", \" \"]\n",
    "    )\n",
    "    chunks = []\n",
    "    for d in docs:\n",
    "        chunks.extend(splitter.split_text(d))\n",
    "\n",
    "    print(f\"✅ Total chunks created: {len(chunks)}\")\n",
    "\n",
    "    # ✅ ใช้โมเดลฟรีจาก Hugging Face (ไม่ต้องมี API key)\n",
    "    embeddings = HuggingFaceEmbeddings(model_name=\"sentence-transformers/all-MiniLM-L6-v2\")\n",
    "    vectordb = FAISS.from_texts(chunks, embeddings)\n",
    "    vectordb.save_local(VECTOR_PATH)\n",
    "    print(f\"✅ Vector DB saved to: {VECTOR_PATH}\")\n",
    "\n",
    "build_vector_db(docs[:3])"
   ]
  },
  {
   "cell_type": "code",
   "execution_count": 6,
   "id": "cb75a480",
   "metadata": {},
   "outputs": [
    {
     "name": "stdout",
     "output_type": "stream",
     "text": [
      "✅ Total chunks created: 379\n",
      "✅ Vector DB saved to: 22092025_vector_db\n"
     ]
    }
   ],
   "source": [
    "docs = load_news(JSON_PATH)\n",
    "build_vector_db(docs)"
   ]
  },
  {
   "cell_type": "code",
   "execution_count": 7,
   "id": "278aa082",
   "metadata": {},
   "outputs": [
    {
     "name": "stdout",
     "output_type": "stream",
     "text": [
      "\n",
      "🔍 ตัวอย่างผลการค้นหา:\n",
      "Category: Nvidia\n",
      "Headline: If you're looking for a gaming laptop on a budget, this is it\n",
      "Source: xda_developers\n",
      "Content: Save $290 off retail for a limited time\n",
      "Timestamp: 2025-09-21\n"
     ]
    }
   ],
   "source": [
    "embeddings = HuggingFaceEmbeddings(model_name=\"sentence-transformers/all-MiniLM-L6-v2\")\n",
    "db = FAISS.load_local(VECTOR_PATH, embeddings, allow_dangerous_deserialization=True)\n",
    "res = db.similarity_search(\"Nvidia acquisition\", k=1)\n",
    "print(\"\\n🔍 ตัวอย่างผลการค้นหา:\")\n",
    "print(res[0].page_content)"
   ]
  },
  {
   "cell_type": "code",
   "execution_count": 8,
   "id": "583bf8e9",
   "metadata": {},
   "outputs": [
    {
     "name": "stdout",
     "output_type": "stream",
     "text": [
      "\n",
      "🔍 Query: Nvidia acquisition\n",
      "🔹 Result snippet:\n",
      "Category: Nvidia\n",
      "Headline: If you're looking for a gaming laptop on a budget, this is it\n",
      "Source: xda_developers\n",
      "Content: Save $290 off retail for a limited time\n",
      "Timestamp: 2025-09-21\n"
     ]
    }
   ],
   "source": [
    "query = \"Nvidia acquisition\"\n",
    "res = db.similarity_search(query, k=1)\n",
    "\n",
    "print(\"\\n🔍 Query:\", query)\n",
    "print(\"🔹 Result snippet:\")\n",
    "print(res[0].page_content if res else \"No result found\")"
   ]
  }
 ],
 "metadata": {
  "kernelspec": {
   "display_name": ".venv",
   "language": "python",
   "name": "python3"
  },
  "language_info": {
   "codemirror_mode": {
    "name": "ipython",
    "version": 3
   },
   "file_extension": ".py",
   "mimetype": "text/x-python",
   "name": "python",
   "nbconvert_exporter": "python",
   "pygments_lexer": "ipython3",
   "version": "3.12.10"
  }
 },
 "nbformat": 4,
 "nbformat_minor": 5
}
