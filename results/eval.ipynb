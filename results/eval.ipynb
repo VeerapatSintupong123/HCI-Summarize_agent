{
 "cells": [
  {
   "cell_type": "code",
   "execution_count": 1,
   "id": "57b330c6",
   "metadata": {},
   "outputs": [
    {
     "name": "stdout",
     "output_type": "stream",
     "text": [
      "Python 3.13.8\n"
     ]
    }
   ],
   "source": [
    "!python --version"
   ]
  },
  {
   "cell_type": "code",
   "execution_count": null,
   "id": "c0c2202f",
   "metadata": {},
   "outputs": [
    {
     "name": "stdout",
     "output_type": "stream",
     "text": [
      "### Nvidia ###\n",
      "The company keeps running into setbacks in this important market.\n",
      "Remember that FSR 4 source code leak on GitHub from a few weeks ago? Someone used it to get AMD's latest upscaler running on unsupported hardware.\n",
      "China’s scrutiny of Nvidia is not being seen as an isolated case, but the latest in a series of actions in its AI race with the United States.\n",
      "Tencent goes public with its pivot to Chinese accelerators, highlighting a deeper break from Nvidia as domestic AI hardware matures.\n",
      "Nvidia will be the first customer to use TSMC’s A16, a 1.6nm-class process that marries gate-all-around (GAA) transistors with backside power delivery.\n",
      "The key question is: How does AVGO stock now compare to its peers, such as NVIDIA, Qualcomm, Intel, and Cisco, in terms of size, valuation, growth, and margins?\n",
      "NVIDIA Corporation (NASDAQ:NVDA) is one of the 10 Unrivaled Stocks of the Next 3 Years. On September 4, JPMorgan reaffirmed an Overweight rating on NVIDIA...\n",
      "Nvidia may struggle to sell the reported two million RTX6000D Chinese GPUs it's set to produce this year, as Chinese firms are showing lukewarm interest amidst ongoing trade negotiations and the uncertain future of Nvidia's B30A GPU.\n",
      "In this episode of Tax Notes Talk, Tax Notes contributing editors Robert Goulder and Joseph Thorndike discuss the recent Nvidia deal to export chips to China, and they question its constitutionality and implications.\n",
      "We came across a bullish thesis on NVIDIA Corporation on Compounding Your Wealth’s Substack by Sergey. In this article, we will summarize the bulls’ thesis...\n",
      "\n",
      "### AMD ###\n",
      "Remember that FSR 4 source code leak on GitHub from a few weeks ago? Someone used it to get AMD's latest upscaler running on unsupported hardware.\n",
      "As a pleasant surprise waking up this morning is AMD ROCm 7.0 release tags beginning to appear on GitHub, indicating the likely imminent official release of the ROCm 7.0 compute stack as the open-source AMD Radeon/Instinct software stack aimed to be the open …\n",
      "Overnight the AMD ROCm 7.0 release tags began appearing within the public Git repositories. Now AMD ROCm 7.0 is officially released as a very significant step forward for AMD's open-source GPU compute stack for better competing against NVIDIA's CUDA ecosystem…\n",
      "TSMC's first 2 nm Node Customers are Apple, AMD, NVIDIA, and MediaTek; Intel Missing（TechPowerUp）[News] TSMC 2nm Gains Steam: MediaTek Completes First 2nm Tape-Out as Apple Preps A20, M6, R2（TrendForce）TrendForceがTSMC 2nmプロセス―N2の最初の顧客についての記事を掲載している。最も大きいのはApp…\n",
      "Nvidia will be the first customer to use TSMC’s A16, a 1.6nm-class process that marries gate-all-around (GAA) transistors with backside power delivery.\n",
      "\n",
      "### Intel ###\n",
      "I still miss Michael Ironside, but Sam Fisher sounds perfectly old, grumpy, and deadly in the upcoming animated series The post New Splinter Cell Show Trailer Seems To Pick A Canon Ending For Chaos Theory appeared first on Kotaku.\n",
      "The Geran-3, modeled after the Iranian-made Shahed-238, is faster and more advanced than its predecessor.\n",
      "Intel's Core Ultra 3 205 has impressed in early testing, with decent performance scores surpassing previous Intel budget picks.\n",
      "The key question is: How does AVGO stock now compare to its peers, such as NVIDIA, Qualcomm, Intel, and Cisco, in terms of size, valuation, growth, and margins?\n",
      "President Donald Trump's administration plans to take a stake in Intel Corp (NASDAQ:INTC) to help the key U.S. chipmaker unlock value. The administration aims to replicate the public-private model that fueled Taiwan Semiconductor Manufacturing Co's (NYSE:TSM)…\n",
      "Redmond names alleged ringleader, claims 5K+ creds stolen and $100k pocketed Microsoft has seized 338 websites associated with RaccoonO365 and identified the leader of the phishing service - Joshua Ogundipe - as part of a larger effort to disrupt what Redmond…\n",
      "DUBAI (Reuters) -MGX, an Abu Dhabi artificial intelligence investment firm and partner of Silver Lake, said on Tuesday it has joined the buyout group in...\n",
      "Nvidia will be the first customer to use TSMC’s A16, a 1.6nm-class process that marries gate-all-around (GAA) transistors with backside power delivery.\n",
      "In this episode of Tax Notes Talk, Tax Notes contributing editors Robert Goulder and Joseph Thorndike discuss the recent Nvidia deal to export chips to China, and they question its constitutionality and implications.\n",
      "Intel announced on September 16, 2025, that Dr. Wang Rui, chair of Intel China with more than 30 years at the company, will retire this month. The leadership transition has been underway since February 2025, when Wang Zhicong was named vice chairman to prepar…\n",
      "The cyberthreat intel-sharing and collaboration group RH-ISAC is helping companies confront cyberattacks. But the challenge is delivering timely intelligence in a dynamic threat environment.\n",
      "\n",
      "\n"
     ]
    }
   ],
   "source": [
    "import json\n",
    "\n",
    "NEWS_DATE_FILE=r\"C:\\Auto\\HCI-Summarize_agent\\data\\query\\16092025.json\"\n",
    "\n",
    "with open(NEWS_DATE_FILE, 'r', encoding='utf-8') as f:\n",
    "    news_data = json.load(f)\n",
    "\n",
    "base = \"\"\n",
    "for chipmaker, articles in news_data.items():\n",
    "    base += f\"### {chipmaker} ###\\n\"\n",
    "    for article in articles:\n",
    "        if article['content'] is None or article['content'].strip() == \"\":\n",
    "            continue\n",
    "        content = article['content'].replace('\\n', ' ').strip()\n",
    "        base += f\"{content}\\n\"\n",
    "    base += \"\\n\"\n",
    "\n",
    "print(base)"
   ]
  },
  {
   "cell_type": "code",
   "execution_count": 31,
   "id": "21d8f985",
   "metadata": {},
   "outputs": [],
   "source": [
    "prompt = \"\"\"\n",
    "CRITICAL: Your entire response MUST be a single, valid JSON object and nothing else. Your response must begin with '{{' and end with '}}'.\n",
    "\n",
    "You are an expert evaluator, acting as an LLM-as-a-Judge. \n",
    "\n",
    "**Input to Judge:**\n",
    "\n",
    "this base of news articles:\n",
    "{base}\n",
    "\n",
    "this summary from the following news articles:\n",
    "{summary}\n",
    "\n",
    "**Instructions:**\n",
    "For each criterion, provide a score from 0.0 (very poor) to 1.0 (excellent) and a brief justification. \n",
    "\n",
    "- Clarity – Is the response clearly written and easy to understand?\n",
    "- Relevance – Does the response stay on topic and directly address the input or question?\n",
    "- Depth of Analysis – Does the response demonstrate thoughtful reasoning, insight, or understanding beyond surface-level information?\n",
    "- Actionable Output – Does the response provide useful, applicable, or implementable information or recommendations?\n",
    "\n",
    "**Final JSON Output Format** \n",
    "After completing your evaluation, structure your entire response into the following nested JSON format. Provide a score and a brief reasoning for each metric as determined in the steps above.\n",
    "\n",
    "{{\n",
    "  \"clarity\": {{\n",
    "    \"score\": <float_from_0.0_to_1.0>,\n",
    "    \"reasoning\": \"<brief justification for clarity>\"\n",
    "  }},\n",
    "  \"relevance\": {{\n",
    "    \"score\": <float_from_0.0_to_1.0>,\n",
    "    \"reasoning\": \"<brief justification for relevance>\"\n",
    "  }},\n",
    "  \"depth_of_analysis\": {{\n",
    "    \"score\": <float_from_0.0_to_1.0>,\n",
    "    \"reasoning\": \"<brief justification for depth of analysis>\"\n",
    "  }},\n",
    "  \"actionable_output\": {{\n",
    "    \"score\": <float_from_0.0_to_1.0>,\n",
    "    \"reasoning\": \"<brief justification for actionable output>\"\n",
    "  }}\n",
    "}}\n",
    "\"\"\""
   ]
  },
  {
   "cell_type": "code",
   "execution_count": 35,
   "id": "15906bc9",
   "metadata": {},
   "outputs": [
    {
     "name": "stdout",
     "output_type": "stream",
     "text": [
      "✅ Saved prompt to prompts_output_week1\\1_Leader3_16_09_2025-5.txt\n",
      "✅ Saved prompt to prompts_output_week1\\2_Leader3_16_09_2025-4.txt\n",
      "✅ Saved prompt to prompts_output_week1\\3_Leader3_16_09_2025-3.txt\n",
      "✅ Saved prompt to prompts_output_week1\\4_Leader3_16_09_2025-2.txt\n",
      "✅ Saved prompt to prompts_output_week1\\5_Leader3_16_09_2025-1.txt\n",
      "✅ Saved prompt to prompts_output_week1\\6_Leader2_16_09_2025-5.txt\n",
      "✅ Saved prompt to prompts_output_week1\\7_Leader2_16_09_2025-4.txt\n",
      "✅ Saved prompt to prompts_output_week1\\8_Leader2_16_09_2025-3.txt\n",
      "✅ Saved prompt to prompts_output_week1\\9_Leader2_16_09_2025-2.txt\n",
      "✅ Saved prompt to prompts_output_week1\\10_Leader2_16_09_2025-1.txt\n",
      "✅ Saved prompt to prompts_output_week1\\11_Leader1_16_09_2025-4.txt\n",
      "✅ Saved prompt to prompts_output_week1\\12_Leader1_16_09_2025-3.txt\n",
      "✅ Saved prompt to prompts_output_week1\\13_Leader1_16_09_2025-2.txt\n",
      "✅ Saved prompt to prompts_output_week1\\14_Leader1_16_09_2025-1.txt\n",
      "✅ Saved prompt to prompts_output_week1\\15_Leader1_16_09_2025.txt\n"
     ]
    }
   ],
   "source": [
    "import os\n",
    "import re\n",
    "import pandas as pd\n",
    "\n",
    "result_df = pd.read_csv(\"result_langfuse - week1.csv\")\n",
    "\n",
    "output_folder = \"prompts_output_week1\"\n",
    "os.makedirs(output_folder, exist_ok=True)\n",
    "\n",
    "def sanitize_filename(name: str) -> str:\n",
    "    return re.sub(r'[^a-zA-Z0-9_\\-]', '_', name)\n",
    "\n",
    "for idx, row in result_df.iterrows():\n",
    "    method = str(row['name'])\n",
    "    safe_filename = f\"{idx+1}_{sanitize_filename(method)}.txt\"\n",
    "    file_path = os.path.join(output_folder, safe_filename)\n",
    "\n",
    "    prompt_filled = prompt.format(base=base, summary=row['output'])\n",
    "\n",
    "    with open(file_path, \"w\", encoding=\"utf-8\") as f:\n",
    "        f.write(prompt_filled)\n",
    "\n",
    "    print(f\"✅ Saved prompt to {file_path}\")"
   ]
  }
 ],
 "metadata": {
  "kernelspec": {
   "display_name": ".venv",
   "language": "python",
   "name": "python3"
  },
  "language_info": {
   "codemirror_mode": {
    "name": "ipython",
    "version": 3
   },
   "file_extension": ".py",
   "mimetype": "text/x-python",
   "name": "python",
   "nbconvert_exporter": "python",
   "pygments_lexer": "ipython3",
   "version": "3.13.8"
  }
 },
 "nbformat": 4,
 "nbformat_minor": 5
}
